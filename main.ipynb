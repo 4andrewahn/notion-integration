{
 "cells": [
  {
   "cell_type": "code",
   "execution_count": null,
   "metadata": {},
   "outputs": [],
   "source": [
    "''' Main Notion Integration '''\n",
    "import os\n",
    "from notion_client import Client\n",
    "import pandas as pd\n",
    "import matplotlib.pyplot as plt\n",
    "from datetime import datetime\n",
    "import csv\n",
    "from helpers import * # not needed \n",
    "from dotenv import load_dotenv\n",
    "\n",
    "load_dotenv()\n",
    "\n",
    "NOTION_TOKEN = os.environ.get('NOTION_TOKEN')\n",
    "DATABASE_ID = os.environ.get('APPLICATION_DATABASE_ID')\n",
    "\n",
    "NUM_SENT_LAST_30_DAYS_FILE_NAME = 'num-sent-30-days'\n",
    "NUM_SENT_LAST_30_DAYS_BLOCK_ID = '416890d79a53494daf530fe5c8ca1f10'\n",
    "# https://www.notion.so/My-Applicatio-416890d79a53494daf530fe5c8ca1f10?pvs=4#40abebf968cb4d4e8d96db7e39bd30aa"
   ]
  },
  {
   "cell_type": "code",
   "execution_count": null,
   "metadata": {},
   "outputs": [],
   "source": [
    "# Initialize the client\n",
    "notion = Client(auth=NOTION_TOKEN)\n",
    "\n",
    "# Query the database\n",
    "database = notion.databases.query(DATABASE_ID).get('results')"
   ]
  },
  {
   "cell_type": "code",
   "execution_count": null,
   "metadata": {},
   "outputs": [],
   "source": [
    "print(\"type(database): \" + str(type(database)))\n",
    "print(\"len(database): \" + str(len(database)))\n",
    "print(type(database[0]))\n",
    "print(database[0].keys())\n",
    "# print('=========')\n",
    "# for k in database[0].keys():\n",
    "#     print(f'{k}: {database[0].get(k)}')"
   ]
  },
  {
   "cell_type": "code",
   "execution_count": null,
   "metadata": {},
   "outputs": [],
   "source": [
    "testtest = database[0]['properties'].keys()\n",
    "print(type(testtest))\n",
    "print(testtest)"
   ]
  },
  {
   "cell_type": "code",
   "execution_count": null,
   "metadata": {},
   "outputs": [],
   "source": [
    "temptemp = database[0]['properties']['Date Applied']['date']['start']\n",
    "print(type(temptemp))\n",
    "print(temptemp)"
   ]
  },
  {
   "cell_type": "code",
   "execution_count": null,
   "metadata": {},
   "outputs": [],
   "source": [
    "db_days_elapsed = []\n",
    "db_statuses = []\n",
    "db_date_applied = []\n",
    "\n",
    "for d in database:\n",
    "    db_days_elapsed.append(d['properties']['days elapsed']['formula']['number'])\n",
    "    db_statuses.append(d['properties']['Status']['select']['name'])\n",
    "    db_date_applied.append(d['properties']['Status']['select']['name'])\n",
    "\n",
    "\n",
    "print(f\"db_days_elapsed: {len(db_days_elapsed)}\")\n",
    "print(f\"db_statuses: {len(db_statuses)}\")\n",
    "print(f\"db_date_applied: {len(db_date_applied)}\")"
   ]
  },
  {
   "cell_type": "code",
   "execution_count": null,
   "metadata": {},
   "outputs": [],
   "source": [
    "# Generate a list of the last 30 days with today at the end of the list\n",
    "end_date = datetime.today()\n",
    "start_date = end_date - pd.Timedelta(days=29)\n",
    "\n",
    "dates = pd.date_range(start=start_date, end=end_date, freq='D')\n",
    "dates_list = dates.to_list()\n",
    "\n",
    "print(dates_list)"
   ]
  },
  {
   "cell_type": "code",
   "execution_count": null,
   "metadata": {},
   "outputs": [],
   "source": [
    "ct_ = 0\n",
    "for entry in database:\n",
    "    if ct_ >= 5:\n",
    "        break\n",
    "    else:\n",
    "        dateVal = entry['properties']['Date Applied']['date']['start']\n",
    "        print(type(dateVal))\n",
    "        ct_ += 1"
   ]
  },
  {
   "cell_type": "code",
   "execution_count": null,
   "metadata": {},
   "outputs": [],
   "source": [
    "''' Parse Database response into Pandas Dataframe '''\n",
    "data = {\n",
    "    'days_elapsed': [],\n",
    "    'date_applied': [],\n",
    "    'status': [],\n",
    "    'state': [],\n",
    "    'job_path': []\n",
    "}\n",
    "\n",
    "for entry in database:\n",
    "    properties = entry['properties']\n",
    "\n",
    "    data['days_elapsed'].append(properties['days elapsed']['formula']['number'])\n",
    "    data['date_applied'].append(properties['Date Applied']['date']['start'])\n",
    "    data['status'].append(properties['Status']['select']['name']) # 'Rejected', \n",
    "    data['state'].append(properties['state']['state']['name'])\n",
    "    data['job_path'].append(properties['Status']['select']['name'])"
   ]
  },
  {
   "cell_type": "code",
   "execution_count": null,
   "metadata": {},
   "outputs": [],
   "source": [
    "df = pd.DataFrame.from_dict(data)\n",
    "df['date_applied'] = pd.to_datetime(df['date_applied'])\n",
    "df = df.sort_values(by='days_elapsed')\n",
    "df"
   ]
  },
  {
   "cell_type": "code",
   "execution_count": null,
   "metadata": {},
   "outputs": [],
   "source": [
    "filtered_df = df[df['days_elapsed'] <= 31]"
   ]
  },
  {
   "cell_type": "code",
   "execution_count": null,
   "metadata": {},
   "outputs": [],
   "source": [
    "# Current date\n",
    "today = datetime.today()\n",
    "\n",
    "# Generate a list of datetime objects for the last 30 days\n",
    "last_30_days = [today - timedelta(days=i) for i in range(30, -1, -1)] # 31 Days Generated\n",
    "\n",
    "x_vals = []\n",
    "y_vals = []\n",
    "\n",
    "for i in range(30, -1, -1):\n",
    "    ct = 0\n",
    "    last_date = last_30_days[i].date()\n",
    "\n",
    "    for j, row in df.iterrows():\n",
    "        app_date = row['date_applied'].date()\n",
    "        if last_date == app_date:\n",
    "            ct += 1\n",
    "        elif last_date > app_date:\n",
    "            break\n",
    "    \n",
    "    formatted_last_date = last_date.strftime('%m-%d-%Y')\n",
    "    x_vals.append(formatted_last_date)\n",
    "    y_vals.append(ct)\n",
    "\n",
    "x_vals.reverse()\n",
    "y_vals.reverse()"
   ]
  },
  {
   "cell_type": "code",
   "execution_count": null,
   "metadata": {},
   "outputs": [],
   "source": [
    "# palette=sns.color_palette(\"light:#5A9\", as_cmap=True)\n",
    "fig, ax = plt.subplots(figsize=(12, 6))\n",
    "\n",
    "# Set the background color of the entire figure\n",
    "fig.patch.set_facecolor('lightgray')\n",
    "\n",
    "# Set the background color of the axes (plot area)\n",
    "ax.set_facecolor('darkgray')\n",
    "\n",
    "ax.bar(x_vals, y_vals, width=0.95, color='MediumAquaMarine')\n",
    "\n",
    "# Add plot labels\n",
    "ax.set_title('# Applications Sent per Day [Last 30 Days]')\n",
    "ax.set_xlabel(None)\n",
    "ax.set_ylabel('#')\n",
    "plt.xticks(rotation=45)\n",
    "# plt.savefig('images/pca_scree_plot.png')\n",
    "plt.show()"
   ]
  },
  {
   "cell_type": "code",
   "execution_count": null,
   "metadata": {},
   "outputs": [],
   "source": [
    "print(df.dtypes['date_applied'])\n",
    "print(type(last_30_days[0]))"
   ]
  },
  {
   "cell_type": "code",
   "execution_count": null,
   "metadata": {},
   "outputs": [],
   "source": [
    "grouped"
   ]
  }
 ],
 "metadata": {
  "kernelspec": {
   "display_name": ".venv",
   "language": "python",
   "name": "python3"
  },
  "language_info": {
   "codemirror_mode": {
    "name": "ipython",
    "version": 3
   },
   "file_extension": ".py",
   "mimetype": "text/x-python",
   "name": "python",
   "nbconvert_exporter": "python",
   "pygments_lexer": "ipython3",
   "version": "3.11.5"
  }
 },
 "nbformat": 4,
 "nbformat_minor": 2
}
